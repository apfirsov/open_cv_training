{
 "cells": [
  {
   "cell_type": "code",
   "execution_count": 22,
   "outputs": [],
   "source": [
    "import os\n",
    "import numpy as np\n",
    "import cv2\n",
    "from matplotlib import pyplot as plt\n",
    "\n",
    "def show(img, title='result'):\n",
    "\tcv2.imshow(title, img)\n",
    "\tcv2.waitKey(0)"
   ],
   "metadata": {
    "collapsed": false,
    "pycharm": {
     "name": "#%%\n"
    }
   }
  },
  {
   "cell_type": "code",
   "execution_count": 23,
   "outputs": [],
   "source": [
    "img = cv2.imread('images/img6.jpg')\n",
    "h, w = img.shape[:2]\n",
    "h_min, w_min = h // 2, w // 2\n",
    "\n",
    "hsv_img = cv2.cvtColor(img, cv2.COLOR_BGR2HSV)"
   ],
   "metadata": {
    "collapsed": false,
    "pycharm": {
     "name": "#%%\n"
    }
   }
  },
  {
   "cell_type": "code",
   "execution_count": 24,
   "outputs": [],
   "source": [
    "hsv_img[:, :, 0] = cv2.equalizeHist(hsv_img[:, :, 0])"
   ],
   "metadata": {
    "collapsed": false,
    "pycharm": {
     "name": "#%%\n"
    }
   }
  },
  {
   "cell_type": "code",
   "execution_count": 17,
   "outputs": [],
   "source": [
    "hsv_img[:, :, 1] = cv2.equalizeHist(hsv_img[:, :, 1])"
   ],
   "metadata": {
    "collapsed": false,
    "pycharm": {
     "name": "#%%\n"
    }
   }
  },
  {
   "cell_type": "code",
   "execution_count": 6,
   "outputs": [],
   "source": [
    "hsv_img[:, :, 2] = cv2.equalizeHist(hsv_img[:, :, 2])"
   ],
   "metadata": {
    "collapsed": false,
    "pycharm": {
     "name": "#%%\n"
    }
   }
  },
  {
   "cell_type": "code",
   "execution_count": 19,
   "outputs": [],
   "source": [
    "new_img = cv2.cvtColor(hsv_img, cv2.COLOR_HSV2BGR)\n",
    "\n",
    "union_img = np.hstack([\n",
    "\tcv2.resize(img, (w_min, h_min)),\n",
    "\tcv2.resize(new_img, (w_min, h_min))\n",
    "])\n",
    "\n",
    "show(union_img)"
   ],
   "metadata": {
    "collapsed": false,
    "pycharm": {
     "name": "#%%\n"
    }
   }
  },
  {
   "cell_type": "code",
   "execution_count": 20,
   "outputs": [],
   "source": [
    "yellow = np.uint8([[[0,255,255 ]]])"
   ],
   "metadata": {
    "collapsed": false,
    "pycharm": {
     "name": "#%%\n"
    }
   }
  },
  {
   "cell_type": "code",
   "execution_count": 21,
   "outputs": [
    {
     "name": "stdout",
     "output_type": "stream",
     "text": [
      "[[[ 30 255 255]]]\n"
     ]
    }
   ],
   "source": [
    "hsv_yellow = cv2.cvtColor(yellow, cv2.COLOR_BGR2HSV)\n",
    "print(hsv_yellow)"
   ],
   "metadata": {
    "collapsed": false,
    "pycharm": {
     "name": "#%%\n"
    }
   }
  },
  {
   "cell_type": "code",
   "execution_count": 27,
   "outputs": [],
   "source": [
    "lower_yellow = np.array([20,100,100])\n",
    "upper_yellow = np.array([40,255,255])\n",
    "mask = cv2.inRange(hsv_img, lower_yellow, upper_yellow)\n",
    "yellow_obj = cv2.bitwise_and(hsv_img, hsv_img, mask=mask)\n",
    "cv2.imshow('hsv_img', hsv_img)\n",
    "cv2.imshow('mask', mask)\n",
    "cv2.imshow('yellow_obj', yellow_obj)\n",
    "cv2.waitKey(0)\n",
    "\n",
    "cv2.destroyAllWindows()"
   ],
   "metadata": {
    "collapsed": false,
    "pycharm": {
     "name": "#%%\n"
    }
   }
  }
 ],
 "metadata": {
  "kernelspec": {
   "display_name": "Python 3",
   "language": "python",
   "name": "python3"
  },
  "language_info": {
   "codemirror_mode": {
    "name": "ipython",
    "version": 2
   },
   "file_extension": ".py",
   "mimetype": "text/x-python",
   "name": "python",
   "nbconvert_exporter": "python",
   "pygments_lexer": "ipython2",
   "version": "2.7.6"
  }
 },
 "nbformat": 4,
 "nbformat_minor": 0
}