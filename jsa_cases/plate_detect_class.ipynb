{
 "cells": [
  {
   "cell_type": "code",
   "execution_count": 67,
   "metadata": {
    "collapsed": true,
    "pycharm": {
     "name": "#%%\n"
    }
   },
   "outputs": [],
   "source": [
    "import cv2\n",
    "\n",
    "from datetime import datetime\n",
    "import random\n",
    "from collections import deque"
   ]
  },
  {
   "cell_type": "code",
   "execution_count": 68,
   "outputs": [],
   "source": [
    "class PlateDetector:\n",
    "    color = (0, 255, 0)\n",
    "    scale_color = (255, 0, 0)\n",
    "    thickness = 2\n",
    "    scaleFactor=1.05\n",
    "    minNeighbors=3\n",
    "\n",
    "    def __init__(self, path_in, path_out, cascade_path):\n",
    "        self.path_in = path_in\n",
    "        self.path_out = path_out\n",
    "        self.queue = deque(maxlen=64)\n",
    "        self.start = None\n",
    "        self.model = cv2.CascadeClassifier(cascade_path)\n",
    "        self.meta_areas = [\n",
    "            ((1060, 580), (1200, 670)),\n",
    "        ]\n",
    "        self.frames = 0\n",
    "        self.hits = 0\n",
    "\n",
    "\n",
    "    def detect_plate(self, frame):\n",
    "        grey_img = cv2.cvtColor(frame, cv2.COLOR_BGR2GRAY)\n",
    "        grey_img = cv2.equalizeHist(grey_img)\n",
    "\n",
    "        for up_left, bottom_right in self.meta_areas:\n",
    "            cv2.rectangle(\n",
    "                grey_img, up_left, bottom_right, (0, 0, 0), cv2.FILLED\n",
    "            )\n",
    "\n",
    "        results = self.model.detectMultiScale(\n",
    "            grey_img, self.scaleFactor, self.minNeighbors\n",
    "        )\n",
    "        B, G, R = 0, 255, 0\n",
    "        for (x, y, w, h) in results:\n",
    "            if x + w <= 740 and y >= 360: # Вынести в настройки detect_area\n",
    "                cv2.rectangle(frame, (x, y), (x + w, y + h), (B, G, R), self.thickness)\n",
    "                # if len(results) == 1:\n",
    "                self.hits += 1\n",
    "                B, G, R = B + 70, G + 50, R + 25\n",
    "                if B > 255: B = 0\n",
    "                if G > 255: G = 0\n",
    "                if R > 255: R = 0\n",
    "\n",
    "        self.frames += 1\n",
    "        self.update_chart()\n",
    "\n",
    "    def update_chart(self):\n",
    "        now = datetime.now()\n",
    "        if self.start is None:\n",
    "            self.start = now\n",
    "            return\n",
    "\n",
    "        delta_time = now - self.start\n",
    "\n",
    "        if self.frames == 0:\n",
    "            percent = 100\n",
    "        else:\n",
    "            percent = int(self.hits / self.frames * 100)\n",
    "\n",
    "        # print(self.frames, self.hits, percent, delta_time.seconds)\n",
    "        self.queue.append((delta_time.seconds, percent))\n",
    "\n",
    "    def draw_chart(self, frame):\n",
    "            scale_y = 170 # Динамический расчет области построения и шкалы\n",
    "            #Рамка\n",
    "            cv2.rectangle(\n",
    "                frame, (0, 0), (320, 180), self.color, thickness=1\n",
    "            )\n",
    "            #Шкала\n",
    "            cv2.line(\n",
    "                frame, (0, scale_y), (319, scale_y), self.scale_color, thickness=1\n",
    "            )\n",
    "            point_one = None\n",
    "            x = 0\n",
    "            last_second = 0\n",
    "            for second, percent in self.queue:\n",
    "                x += 5\n",
    "                y = scale_y - percent\n",
    "                point_two = (x, y)\n",
    "                if point_one is not None:\n",
    "                    # График\n",
    "                    cv2.line(\n",
    "                        frame, point_one, point_two,self.color,self.thickness\n",
    "                    )\n",
    "                    cv2.putText(\n",
    "                        frame, f'{percent}%', (290, 30), cv2.FONT_HERSHEY_PLAIN, 3, self.color, 1\n",
    "                    )\n",
    "\n",
    "                    if last_second != second and second % 5 == 0:\n",
    "                        # Шкала\n",
    "                        cv2.line(\n",
    "                            frame, (x, scale_y - 10), (x, scale_y), self.scale_color, thickness=1\n",
    "                        )\n",
    "                        cv2.putText(\n",
    "                            frame, str(second), (x, scale_y), cv2.FONT_HERSHEY_PLAIN, 1, self.scale_color, 2\n",
    "                        )\n",
    "                        last_second = second\n",
    "\n",
    "                point_one = point_two\n",
    "\n",
    "    def run(self):\n",
    "        cap = cv2.VideoCapture(self.path_in)\n",
    "        if not cap.isOpened():\n",
    "            print(\"Cannot open\")\n",
    "            exit()\n",
    "\n",
    "        print('start...')\n",
    "        fourcc = cv2.VideoWriter_fourcc(*'XVID') #MP4\n",
    "        out = cv2.VideoWriter(self.path_out, fourcc, 20.0, (1280,  720))\n",
    "\n",
    "        while cap.isOpened():\n",
    "            ret, frame = cap.read()\n",
    "            if not ret:\n",
    "                print(\"finish.\")\n",
    "                break\n",
    "\n",
    "            self.detect_plate(frame)\n",
    "            self.draw_chart(frame)\n",
    "            out.write(frame)\n",
    "\n",
    "        cap.release()\n",
    "        out.release()\n",
    "        cv2.destroyAllWindows()"
   ],
   "metadata": {
    "collapsed": false,
    "pycharm": {
     "name": "#%%\n"
    }
   }
  },
  {
   "cell_type": "code",
   "execution_count": 69,
   "outputs": [
    {
     "name": "stdout",
     "output_type": "stream",
     "text": [
      "start...\n",
      "finish.\n"
     ]
    }
   ],
   "source": [
    "path_in = 'videos/video_1.mp4'\n",
    "path_out = 'videos/output14.avi'\n",
    "cascade_path = 'haarcascade_russian_plate_number.xml'\n",
    "\n",
    "detector = PlateDetector(path_in, path_out, cascade_path)\n",
    "detector.run()"
   ],
   "metadata": {
    "collapsed": false,
    "pycharm": {
     "name": "#%%\n"
    }
   }
  }
 ],
 "metadata": {
  "kernelspec": {
   "display_name": "Python 3",
   "language": "python",
   "name": "python3"
  },
  "language_info": {
   "codemirror_mode": {
    "name": "ipython",
    "version": 2
   },
   "file_extension": ".py",
   "mimetype": "text/x-python",
   "name": "python",
   "nbconvert_exporter": "python",
   "pygments_lexer": "ipython2",
   "version": "2.7.6"
  }
 },
 "nbformat": 4,
 "nbformat_minor": 0
}