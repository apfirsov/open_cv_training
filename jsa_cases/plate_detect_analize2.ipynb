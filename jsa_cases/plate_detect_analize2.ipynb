{
 "cells": [
  {
   "cell_type": "code",
   "execution_count": 1,
   "metadata": {
    "collapsed": true,
    "pycharm": {
     "name": "#%%\n"
    }
   },
   "outputs": [],
   "source": [
    "import cv2\n",
    "import matplotlib.pyplot as plt"
   ]
  },
  {
   "cell_type": "code",
   "execution_count": 2,
   "outputs": [],
   "source": [
    "MODEL = cv2.CascadeClassifier('haarcascade_russian_plate_number.xml')\n",
    "def detect_plate(frame):\n",
    "    grey_img = cv2.cvtColor(frame, cv2.COLOR_BGR2GRAY)\n",
    "    grey_img = cv2.equalizeHist(grey_img)\n",
    "    cv2.rectangle(grey_img, (1060, 580), (1200, 670), (0, 0, 0), thickness=cv2.FILLED)\n",
    "    hits_list = []\n",
    "    for scale in [1.05, 1.15, 1.3]:\n",
    "        for min_neighbors in range(3, 6):\n",
    "            results = MODEL.detectMultiScale(grey_img, scaleFactor=scale, minNeighbors=min_neighbors)\n",
    "\n",
    "            if (len(results) == 1\n",
    "                    and results[0][0] + results[0][2] <= 740\n",
    "                    and results[0][1] >= 360):\n",
    "                hits_list.append((scale, min_neighbors))\n",
    "    return hits_list"
   ],
   "metadata": {
    "collapsed": false,
    "pycharm": {
     "name": "#%%\n"
    }
   }
  },
  {
   "cell_type": "code",
   "execution_count": 3,
   "outputs": [
    {
     "name": "stdout",
     "output_type": "stream",
     "text": [
      "ok\n",
      "Готово ...\n",
      "(1.15, 3): 408 (59.30 %)\n",
      "(1.15, 4): 377 (54.80 %)\n",
      "(1.15, 5): 328 (47.67 %)\n",
      "(1.3, 3): 187 (27.18 %)\n",
      "(1.3, 4): 99 (14.39 %)\n",
      "(1.3, 5): 43 (6.25 %)\n",
      "(1.05, 5): 416 (60.47 %)\n",
      "(1.05, 3): 340 (49.42 %)\n",
      "(1.05, 4): 390 (56.69 %)\n"
     ]
    }
   ],
   "source": [
    "path_in = 'videos/video_1.mp4'\n",
    "cap = cv2.VideoCapture(path_in)\n",
    "if not cap.isOpened():\n",
    "    print(\"Cannot open\")\n",
    "    exit()\n",
    "else:\n",
    "    print('ok')\n",
    "\n",
    "frame_count = int(cap.get(cv2.CAP_PROP_FRAME_COUNT))\n",
    "hits = {}\n",
    "while cap.isOpened():\n",
    "    ret, frame = cap.read()\n",
    "    if not ret:\n",
    "        print(\"Готово ...\")\n",
    "        break\n",
    "\n",
    "    hits_list = detect_plate(frame)\n",
    "    for hit in hits_list:\n",
    "        if hit in hits.keys():\n",
    "            hits[hit] += 1\n",
    "        else:\n",
    "            hits[hit] = 1\n",
    "\n",
    "\n",
    "for key, value in hits.items():\n",
    "    print(f'{key}: {value} ({(value / frame_count * 100):.2f} %)')\n",
    "\n",
    "\n",
    "\n",
    "cv2.destroyAllWindows()"
   ],
   "metadata": {
    "collapsed": false,
    "pycharm": {
     "name": "#%%\n"
    }
   }
  },
  {
   "cell_type": "code",
   "execution_count": 4,
   "outputs": [
    {
     "data": {
      "text/plain": "'\\n(1.3, 5): 9 (1.31 %)\\n(1.3, 3): 5 (0.73 %)\\n(1.15, 3): 5 (0.73 %)\\n(1.15, 4): 6 (0.87 %)\\n(1.15, 5): 7 (1.02 %)\\n(1.3, 4): 5 (0.73 %)\\n(1.05, 3): 2 (0.29 %)\\n(1.05, 4): 2 (0.29 %)\\n(1.05, 5): 2 (0.29 %)\\n'"
     },
     "execution_count": 4,
     "metadata": {},
     "output_type": "execute_result"
    }
   ],
   "source": [
    "\"\"\"\n",
    "(1.15, 3): 408 (59.30 %)\n",
    "(1.15, 4): 377 (54.80 %)\n",
    "(1.15, 5): 328 (47.67 %)\n",
    "(1.3, 3): 187 (27.18 %)\n",
    "(1.3, 4): 99 (14.39 %)\n",
    "(1.3, 5): 43 (6.25 %)\n",
    "(1.05, 5): 416 (60.47 %)\n",
    "(1.05, 3): 340 (49.42 %)\n",
    "(1.05, 4): 390 (56.69 %)\n",
    "\"\"\""
   ],
   "metadata": {
    "collapsed": false,
    "pycharm": {
     "name": "#%%\n"
    }
   }
  }
 ],
 "metadata": {
  "kernelspec": {
   "display_name": "Python 3",
   "language": "python",
   "name": "python3"
  },
  "language_info": {
   "codemirror_mode": {
    "name": "ipython",
    "version": 2
   },
   "file_extension": ".py",
   "mimetype": "text/x-python",
   "name": "python",
   "nbconvert_exporter": "python",
   "pygments_lexer": "ipython2",
   "version": "2.7.6"
  }
 },
 "nbformat": 4,
 "nbformat_minor": 0
}