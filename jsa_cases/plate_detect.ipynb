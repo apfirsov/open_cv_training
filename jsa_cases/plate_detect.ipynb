{
 "cells": [
  {
   "cell_type": "code",
   "execution_count": 37,
   "metadata": {
    "collapsed": true,
    "pycharm": {
     "name": "#%%\n"
    }
   },
   "outputs": [],
   "source": [
    "import cv2\n",
    "import numpy as np"
   ]
  },
  {
   "cell_type": "code",
   "execution_count": 38,
   "outputs": [],
   "source": [
    "MODEL = cv2.CascadeClassifier('haarcascade_russian_plate_number.xml')\n",
    "def detect_plate(frame):\n",
    "    grey_img = cv2.cvtColor(frame, cv2.COLOR_BGR2GRAY)\n",
    "    grey_img = cv2.equalizeHist(grey_img)\n",
    "    results = MODEL.detectMultiScale(grey_img, scaleFactor=3, minNeighbors=2)\n",
    "    for (x, y, w, h) in results:\n",
    "        cv2.rectangle(frame, (x, y), (x + w, y + h), (0, 255, 0), 2)\n",
    "\n",
    "    #cv2.imshow('res', frame)\n",
    "    #cv2.waitKey(0)\n"
   ],
   "metadata": {
    "collapsed": false,
    "pycharm": {
     "name": "#%%\n"
    }
   }
  },
  {
   "cell_type": "code",
   "execution_count": 39,
   "outputs": [
    {
     "name": "stdout",
     "output_type": "stream",
     "text": [
      "ok\n",
      "Готово ...\n"
     ]
    }
   ],
   "source": [
    "path_in = 'videos/video_1.mp4'\n",
    "path_out = 'videos/plate_output.avi'\n",
    "cap = cv2.VideoCapture(path_in)\n",
    "if not cap.isOpened():\n",
    "    print(\"Cannot open\")\n",
    "    exit()\n",
    "else:\n",
    "    print('ok')\n",
    "\n",
    "fourcc = cv2.VideoWriter_fourcc(*'XVID') #MP4\n",
    "out = cv2.VideoWriter(path_out, fourcc, 20.0, (1280,  720))\n",
    "\n",
    "while cap.isOpened():\n",
    "    ret, frame = cap.read()\n",
    "    if not ret:\n",
    "        print(\"Готово ...\")\n",
    "        break\n",
    "\n",
    "    #cv2.imshow('res', frame)\n",
    "    #cv2.waitKey(0)\n",
    "    detect_plate(frame)\n",
    "    #break\n",
    "    out.write(frame)\n",
    "\n",
    "cap.release()\n",
    "out.release()\n",
    "cv2.destroyAllWindows()"
   ],
   "metadata": {
    "collapsed": false,
    "pycharm": {
     "name": "#%%\n"
    }
   }
  }
 ],
 "metadata": {
  "kernelspec": {
   "display_name": "Python 3",
   "language": "python",
   "name": "python3"
  },
  "language_info": {
   "codemirror_mode": {
    "name": "ipython",
    "version": 2
   },
   "file_extension": ".py",
   "mimetype": "text/x-python",
   "name": "python",
   "nbconvert_exporter": "python",
   "pygments_lexer": "ipython2",
   "version": "2.7.6"
  }
 },
 "nbformat": 4,
 "nbformat_minor": 0
}