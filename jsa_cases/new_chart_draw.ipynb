{
 "cells": [
  {
   "cell_type": "code",
   "execution_count": 85,
   "metadata": {
    "collapsed": true,
    "pycharm": {
     "name": "#%%\n"
    }
   },
   "outputs": [],
   "source": [
    "import cv2\n",
    "import numpy as np\n",
    "import matplotlib.pyplot as plt\n",
    "from queue import Queue\n",
    "from datetime import datetime, timedelta\n",
    "import random"
   ]
  },
  {
   "cell_type": "code",
   "execution_count": 86,
   "outputs": [],
   "source": [
    "class ChartDrawer:\n",
    "    color = (0, 255, 0)\n",
    "    scale_color = (255, 0, 0)\n",
    "    thickness = 2\n",
    "\n",
    "    def __init__(self, path_in, path_out, **kwargs):\n",
    "        self.path_in = path_in\n",
    "        self.path_out = path_out\n",
    "        self.queue = Queue(64)\n",
    "        self.start = None\n",
    "        self.last_y = 90\n",
    "\n",
    "        for attr, value in kwargs:\n",
    "            setattr(self, attr, value)\n",
    "\n",
    "    def update_chart(self):\n",
    "        now = datetime.now()\n",
    "        if self.start is None:\n",
    "            self.start = now\n",
    "            return\n",
    "\n",
    "        delta_time = now - self.start\n",
    "        self.last_y += random.choice([-3, 3])\n",
    "\n",
    "        if self.last_y < 0:\n",
    "            self.last_y = 0\n",
    "        if self.last_y > 160:\n",
    "            self.last_y = 160\n",
    "\n",
    "        if self.queue.full():\n",
    "            self.queue.get()\n",
    "\n",
    "        self.queue.put((delta_time.seconds, self.last_y))\n",
    "\n",
    "    def draw_chart(self, frame):\n",
    "            #Рамка\n",
    "            cv2.rectangle(\n",
    "                frame,\n",
    "                (0, 0),\n",
    "                (320, 180),\n",
    "                self.color,\n",
    "                thickness=1\n",
    "            )\n",
    "            #Шкала\n",
    "            cv2.line(\n",
    "                frame,\n",
    "                (0, 170),\n",
    "                (319, 170),\n",
    "                self.scale_color,\n",
    "                thickness=1\n",
    "            )\n",
    "            point_one = None\n",
    "            x = 0\n",
    "            second = 0\n",
    "            for data in self.queue.queue:\n",
    "                x += 5\n",
    "                point_two = (x, data[1])\n",
    "                if point_one is not None:\n",
    "                    cv2.line(\n",
    "                        frame,\n",
    "                        point_one,\n",
    "                        point_two,\n",
    "                        self.color,\n",
    "                        self.thickness\n",
    "                    )\n",
    "\n",
    "                    if second != data[0]:\n",
    "                        second = data[0]\n",
    "                        cv2.line(\n",
    "                            frame,\n",
    "                            (x, 160),\n",
    "                            (x, 170),\n",
    "                            self.scale_color,\n",
    "                            thickness=1\n",
    "                        )\n",
    "                        cv2.putText(\n",
    "                            frame,\n",
    "                            str(second),\n",
    "                            (x, 170),\n",
    "                            cv2.FONT_HERSHEY_PLAIN,\n",
    "                            1,# Размер к базе\n",
    "                            self.scale_color,\n",
    "                            1 # обводка\n",
    "                        )\n",
    "                point_one = point_two\n",
    "\n",
    "    def run(self):\n",
    "        cap = cv2.VideoCapture(self.path_in)\n",
    "        if not cap.isOpened():\n",
    "            print(\"Cannot open\")\n",
    "            exit()\n",
    "        else:\n",
    "            print('ok')\n",
    "\n",
    "        fourcc = cv2.VideoWriter_fourcc(*'XVID')\n",
    "        out = cv2.VideoWriter(self.path_out, fourcc, 20.0, (1280,  720))\n",
    "\n",
    "        while cap.isOpened():\n",
    "            ret, frame = cap.read()\n",
    "            if not ret:\n",
    "                print(\"Готово ...\")\n",
    "                break\n",
    "\n",
    "            self.update_chart()\n",
    "            self.draw_chart(frame)\n",
    "            # cv2.polylines(\n",
    "            #     img=frame,\n",
    "            #     pts=[self.chart],\n",
    "            #     isClosed=True,\n",
    "            #     color=self.color,\n",
    "            #     thickness=self.thickness\n",
    "            # )\n",
    "            out.write(frame)\n",
    "\n",
    "        cap.release()\n",
    "        out.release()\n",
    "        cv2.destroyAllWindows()"
   ],
   "metadata": {
    "collapsed": false,
    "pycharm": {
     "name": "#%%\n"
    }
   }
  },
  {
   "cell_type": "code",
   "execution_count": 87,
   "outputs": [
    {
     "name": "stdout",
     "output_type": "stream",
     "text": [
      "ok\n",
      "Готово ...\n"
     ]
    }
   ],
   "source": [
    "path_in = 'videos/video_1.mp4'\n",
    "path_out = 'videos/output9.avi'\n",
    "\n",
    "drawer = ChartDrawer(path_in, path_out)\n",
    "drawer.run()"
   ],
   "metadata": {
    "collapsed": false,
    "pycharm": {
     "name": "#%%\n"
    }
   }
  }
 ],
 "metadata": {
  "kernelspec": {
   "display_name": "Python 3",
   "language": "python",
   "name": "python3"
  },
  "language_info": {
   "codemirror_mode": {
    "name": "ipython",
    "version": 2
   },
   "file_extension": ".py",
   "mimetype": "text/x-python",
   "name": "python",
   "nbconvert_exporter": "python",
   "pygments_lexer": "ipython2",
   "version": "2.7.6"
  }
 },
 "nbformat": 4,
 "nbformat_minor": 0
}