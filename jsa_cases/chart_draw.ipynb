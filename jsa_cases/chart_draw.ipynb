{
 "cells": [
  {
   "cell_type": "code",
   "execution_count": 52,
   "outputs": [],
   "source": [
    "import cv2\n",
    "import numpy as np\n",
    "import matplotlib.pyplot as plt\n",
    "from queue import Queue"
   ],
   "metadata": {
    "collapsed": false,
    "pycharm": {
     "name": "#%%\n"
    }
   }
  },
  {
   "cell_type": "code",
   "execution_count": 53,
   "outputs": [],
   "source": [
    "q = Queue(10)"
   ],
   "metadata": {
    "collapsed": false,
    "pycharm": {
     "name": "#%%\n"
    }
   }
  },
  {
   "cell_type": "code",
   "execution_count": null,
   "outputs": [],
   "source": [
    "COLOR = (0, 255, 0)\n",
    "cap = cv2.VideoCapture('videos/video_1.mp4')\n",
    "if not cap.isOpened():\n",
    "    print(\"Cannot open\")\n",
    "    exit()\n",
    "else:\n",
    "    print('ok')\n",
    "\n",
    "fourcc = cv2.VideoWriter_fourcc(*'XVID')\n",
    "out = cv2.VideoWriter('videos/output2.avi', fourcc, 20.0, (1280,  720))\n",
    "\n",
    "i = 0\n",
    "x1 = 0\n",
    "y1 = 180\n",
    "x2 = 0\n",
    "y2 = 0\n",
    "q.put((x1, y1))\n",
    "while cap.isOpened():\n",
    "    ret, frame = cap.read()\n",
    "    if not ret:\n",
    "        print(\"Готово ...\")\n",
    "        break\n",
    "    #frame = cv.flip(frame, 0)\n",
    "    cv2.rectangle(\n",
    "\t\tframe,\n",
    "\t\t(0, 0),\n",
    "\t\t(320, 180),\n",
    "\t\tCOLOR,\n",
    "\t\tthickness=1 # толщина\n",
    "\t)\n",
    "    i += 1\n",
    "    if i % 2 == 0:\n",
    "        x2 = x1 + i\n",
    "        y2 = y1\n",
    "    else:\n",
    "        x2 = x1\n",
    "        y2 = y1 - i\n",
    "\n",
    "    if q.full():\n",
    "        q.get()\n",
    "\n",
    "    q.put((x2, y2))\n",
    "    # cv2.line(\n",
    "\t# \tframe,\n",
    "\t# \t(x1, y1),\n",
    "\t# \t(x2, y2),\n",
    "\t# \tCOLOR,\n",
    "\t# \tthickness=2  # толщина\n",
    "\t# )\n",
    "    print(q.queue)\n",
    "    charm = np.array(q.queue)\n",
    "    #print(charm)\n",
    "    # cv2.polylines(\n",
    "    #     img=frame,\n",
    "    #     pts=charm,\n",
    "    #     #isClosed=False,\n",
    "    #     color=COLOR,\n",
    "    #     thickness=2\n",
    "    # )\n",
    "    if x1 >= 320 or y1 <= 0:\n",
    "        x1 = 0\n",
    "        y1 = 180\n",
    "\n",
    "\n",
    "\n",
    "    # write the flipped frame\n",
    "    out.write(frame)\n",
    "# Release everything if job is finished\n",
    "cap.release()\n",
    "out.release()\n",
    "cv2.destroyAllWindows()"
   ],
   "metadata": {
    "collapsed": false,
    "pycharm": {
     "name": "#%%\n",
     "is_executing": true
    }
   }
  },
  {
   "cell_type": "code",
   "execution_count": 55,
   "outputs": [],
   "source": [
    "out.release()"
   ],
   "metadata": {
    "collapsed": false,
    "pycharm": {
     "name": "#%%\n"
    }
   }
  },
  {
   "cell_type": "code",
   "execution_count": null,
   "outputs": [],
   "source": [],
   "metadata": {
    "collapsed": false,
    "pycharm": {
     "name": "#%%\n"
    }
   }
  }
 ],
 "metadata": {
  "kernelspec": {
   "display_name": "Python 3",
   "language": "python",
   "name": "python3"
  },
  "language_info": {
   "codemirror_mode": {
    "name": "ipython",
    "version": 2
   },
   "file_extension": ".py",
   "mimetype": "text/x-python",
   "name": "python",
   "nbconvert_exporter": "python",
   "pygments_lexer": "ipython2",
   "version": "2.7.6"
  }
 },
 "nbformat": 4,
 "nbformat_minor": 0
}