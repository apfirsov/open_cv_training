{
 "cells": [
  {
   "cell_type": "code",
   "execution_count": 1,
   "metadata": {
    "collapsed": true,
    "pycharm": {
     "name": "#%%\n"
    }
   },
   "outputs": [],
   "source": [
    "import cv2\n",
    "import matplotlib.pyplot as plt"
   ]
  },
  {
   "cell_type": "code",
   "execution_count": 2,
   "outputs": [],
   "source": [
    "MODEL = cv2.CascadeClassifier('haarcascade_russian_plate_number.xml')\n",
    "def detect_plate(frame):\n",
    "    grey_img = cv2.cvtColor(frame, cv2.COLOR_BGR2GRAY)\n",
    "    grey_img = cv2.equalizeHist(grey_img)\n",
    "    cv2.rectangle(grey_img, (1060, 580), (1200, 670), (0, 0, 0), thickness=cv2.FILLED)\n",
    "    hits_list = []\n",
    "    for scale in [1.05, 1.15]:\n",
    "        for min_neighbors in range(1, 3):\n",
    "            results = MODEL.detectMultiScale(grey_img, scaleFactor=scale, minNeighbors=min_neighbors)\n",
    "            i = 0\n",
    "            for (x, y, w, h) in results:\n",
    "                if x + w <= 740 and y >= 360:\n",
    "                    i += 1\n",
    "\n",
    "            if i == 1:\n",
    "                hits_list.append((scale, min_neighbors))\n",
    "\n",
    "    return hits_list"
   ],
   "metadata": {
    "collapsed": false,
    "pycharm": {
     "name": "#%%\n"
    }
   }
  },
  {
   "cell_type": "code",
   "execution_count": 3,
   "outputs": [
    {
     "name": "stdout",
     "output_type": "stream",
     "text": [
      "ok\n",
      "Готово ...\n",
      "(1.05, 1): 398 (57.85 %)\n",
      "(1.05, 2): 535 (77.76 %)\n",
      "(1.15, 1): 529 (76.89 %)\n",
      "(1.15, 2): 509 (73.98 %)\n"
     ]
    }
   ],
   "source": [
    "path_in = 'videos/video_1.mp4'\n",
    "cap = cv2.VideoCapture(path_in)\n",
    "if not cap.isOpened():\n",
    "    print(\"Cannot open\")\n",
    "    exit()\n",
    "else:\n",
    "    print('ok')\n",
    "\n",
    "frame_count = int(cap.get(cv2.CAP_PROP_FRAME_COUNT))\n",
    "hits = {}\n",
    "while cap.isOpened():\n",
    "    ret, frame = cap.read()\n",
    "    if not ret:\n",
    "        print(\"Готово ...\")\n",
    "        break\n",
    "\n",
    "    hits_list = detect_plate(frame)\n",
    "    for hit in hits_list:\n",
    "        if hit in hits.keys():\n",
    "            hits[hit] += 1\n",
    "        else:\n",
    "            hits[hit] = 1\n",
    "\n",
    "\n",
    "for key, value in hits.items():\n",
    "    print(f'{key}: {value} ({(value / frame_count * 100):.2f} %)')\n",
    "\n",
    "\n",
    "\n",
    "cv2.destroyAllWindows()"
   ],
   "metadata": {
    "collapsed": false,
    "pycharm": {
     "name": "#%%\n"
    }
   }
  },
  {
   "cell_type": "code",
   "execution_count": 4,
   "outputs": [
    {
     "data": {
      "text/plain": "'\\n(1.05, 3): 563 (81.83 %)\\n(1.05, 4): 566 (82.27 %)\\n(1.05, 5): 556 (80.81 %)\\n(1.15, 3): 458 (66.57 %)\\n(1.15, 4): 396 (57.56 %)\\n(1.15, 5): 335 (48.69 %)\\n(1.3, 3): 191 (27.76 %)\\n(1.3, 4): 99 (14.39 %)\\n(1.3, 5): 43 (6.25 %)\\n(1.5, 3): 86 (12.50 %)\\n(1.5, 4): 36 (5.23 %)\\n(1.5, 5): 18 (2.62 %)\\n(2, 3): 72 (10.47 %)\\n(2, 4): 33 (4.80 %)\\n(2, 5): 17 (2.47 %)\\n'"
     },
     "execution_count": 4,
     "metadata": {},
     "output_type": "execute_result"
    }
   ],
   "source": [
    "\"\"\"\n",
    "(1.05, 1): 398 (57.85 %)\n",
    "(1.05, 2): 535 (77.76 %)\n",
    "(1.15, 1): 529 (76.89 %)\n",
    "(1.15, 2): 509 (73.98 %)\n",
    "\"\"\""
   ],
   "metadata": {
    "collapsed": false,
    "pycharm": {
     "name": "#%%\n"
    }
   }
  }
 ],
 "metadata": {
  "kernelspec": {
   "display_name": "Python 3",
   "language": "python",
   "name": "python3"
  },
  "language_info": {
   "codemirror_mode": {
    "name": "ipython",
    "version": 2
   },
   "file_extension": ".py",
   "mimetype": "text/x-python",
   "name": "python",
   "nbconvert_exporter": "python",
   "pygments_lexer": "ipython2",
   "version": "2.7.6"
  }
 },
 "nbformat": 4,
 "nbformat_minor": 0
}